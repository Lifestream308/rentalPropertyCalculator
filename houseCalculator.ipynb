{
 "cells": [
  {
   "cell_type": "code",
   "execution_count": null,
   "metadata": {},
   "outputs": [
    {
     "name": "stdout",
     "output_type": "stream",
     "text": [
      "Details? Update? Cash Flow? ROI? details\n",
      "This house is a Duplex. Rental Income is 2000. Expenses are 1610\n",
      "Total Investment is $50000\n",
      "Details? Update? Cash Flow? ROI? update\n",
      "2000 is current Rental Income. What do you want to change it to? 2300\n",
      "1610 is current Expenses. What do you want to change it to? 1800\n",
      "50000 is current Investment. What do you want to change it to? 47123\n",
      "Details updated. Rental Income: $2300. Expenses: $1800. Total Investment: $47123\n",
      "Details? Update? Cash Flow? ROI? cash flow\n",
      "Cash Flow is $500 a month.\n",
      "Details? Update? Cash Flow? ROI? roi\n",
      "ROI is 12.73% cash on cash\n"
     ]
    }
   ],
   "source": [
    "class House():\n",
    "    \n",
    "    def __init__(self, details, rental_income = 2000, expenses = 1610, investment = 50000):\n",
    "        self.details = details\n",
    "        self.rental_income = rental_income\n",
    "        self.expenses = expenses\n",
    "        self.investment = investment\n",
    "        \n",
    "    def giveDetails(self): \n",
    "        print(f\"This house is a {self.details}. Rental Income is {self.rental_income}. Expenses are {self.expenses}\")\n",
    "        print(f\"Total Investment is ${self.investment}\")\n",
    "\n",
    "    def update(self): \n",
    "        self.rental_income = int(input(f\"{self.rental_income} is current Rental Income. What do you want to change it to? \"))\n",
    "        self.expenses = int(input(f\"{self.expenses} is current Expenses. What do you want to change it to? \"))\n",
    "        self.investment = int(input(f\"{self.investment} is current Investment. What do you want to change it to? \"))\n",
    "        print(f\"Details updated. Rental Income: ${self.rental_income}. Expenses: ${self.expenses}. Total Investment: ${self.investment}\")\n",
    "        \n",
    "    def cashFlow(self):\n",
    "        print(f\"Cash Flow is ${self.rental_income - self.expenses} a month.\")\n",
    "        \n",
    "    def roi(self):\n",
    "        print(f\"ROI is {round(100*12*(self.rental_income - self.expenses) / self.investment,2)}% cash on cash\")\n",
    "        \n",
    "        \n",
    "    def startProgram(self):\n",
    "        answer = input(\"Details? Update? Cash Flow? ROI? \")\n",
    "        if answer.casefold() == \"details\":\n",
    "            self.giveDetails()\n",
    "            self.startProgram()\n",
    "        if answer.casefold() == \"update\":\n",
    "            self.update()\n",
    "            self.startProgram()\n",
    "        if answer.casefold() == \"cash flow\":\n",
    "            self.cashFlow()\n",
    "            self.startProgram()\n",
    "        if answer.casefold() == \"roi\":\n",
    "            self.roi()\n",
    "            self.startProgram()\n",
    "        \n",
    "new_house = House(\"Duplex\") \n",
    "new_house.startProgram()"
   ]
  },
  {
   "cell_type": "code",
   "execution_count": null,
   "metadata": {},
   "outputs": [],
   "source": []
  }
 ],
 "metadata": {
  "kernelspec": {
   "display_name": "Python 3 (ipykernel)",
   "language": "python",
   "name": "python3"
  },
  "language_info": {
   "codemirror_mode": {
    "name": "ipython",
    "version": 3
   },
   "file_extension": ".py",
   "mimetype": "text/x-python",
   "name": "python",
   "nbconvert_exporter": "python",
   "pygments_lexer": "ipython3",
   "version": "3.9.12"
  },
  "vscode": {
   "interpreter": {
    "hash": "9e3bfd5707cea17bcbe380e30b983be31a9c4e73ed42697506103186bbe325e5"
   }
  }
 },
 "nbformat": 4,
 "nbformat_minor": 2
}
